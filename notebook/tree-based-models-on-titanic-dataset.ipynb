{
 "cells": [
  {
   "cell_type": "code",
   "execution_count": 194,
   "metadata": {},
   "outputs": [],
   "source": [
    "# !pip install nameparser\n",
    "# !pip install lightgbm\n",
    "# # !pip install catboost"
   ]
  },
  {
   "cell_type": "markdown",
   "metadata": {},
   "source": [
    "# Tree-Based Prediction Models on Titanic Dataset\n",
    "\n",
    "## Summary\n",
    "Just wanted to perform a quick analysis using Tree-Based Models to make a prediction on the Titanic dataset.  Many have done and contributed their exploratory data analyses in Kaggle.  Based on these analyses, the focus here is to perform some quick data transformation and feature engineering, follow by model training and prediction.  Finally, generating the submission csv for assessment in Kaggle.\n",
    "\n",
    "I aim for this notebook to be short and not dwell in too much details on why certain parameters or models are selected.  Purpose is for tree-based models to perform well in making predictions on unseen data."
   ]
  },
  {
   "cell_type": "markdown",
   "metadata": {},
   "source": [
    "---\n",
    "## Importing Libraries"
   ]
  },
  {
   "cell_type": "code",
   "execution_count": 158,
   "metadata": {
    "_cell_guid": "b1076dfc-b9ad-4769-8c92-a6c4dae69d19",
    "_uuid": "8f2839f25d086af736a60e9eeb907d3b93b6e0e5"
   },
   "outputs": [
    {
     "name": "stdout",
     "output_type": "stream",
     "text": [
      "../data/.DS_Store\n",
      "../data/test.csv\n",
      "../data/train.csv\n",
      "../data/gender_submission.csv\n"
     ]
    }
   ],
   "source": [
    "import time\n",
    "\n",
    "import numpy as np # linear algebra\n",
    "import pandas as pd # data processing, CSV file I/O (e.g. pd.read_csv)\n",
    "import matplotlib.pyplot as plt\n",
    "# %matplotlib inline\n",
    "\n",
    "import re\n",
    "\n",
    "import warnings\n",
    "warnings.filterwarnings('ignore')\n",
    "\n",
    "## Changing the default settings\n",
    "pd.options.display.max_columns = 50\n",
    "# plt.style.use('ggplot')\n",
    "plt.rcParams.update({'figure.figsize':(6,3), 'figure.dpi':120})\n",
    "\n",
    "DATA_FOLDER = '../data/'\n",
    "OUTPUT_FOLDER = '../output/'\n",
    "\n",
    "import os\n",
    "for dirname, _, filenames in os.walk(DATA_FOLDER):\n",
    "    for filename in filenames:\n",
    "        print(os.path.join(dirname, filename))"
   ]
  },
  {
   "cell_type": "markdown",
   "metadata": {},
   "source": [
    "---\n",
    "## Loading the Dataset\n",
    "\n",
    "Some quick information"
   ]
  },
  {
   "cell_type": "code",
   "execution_count": 159,
   "metadata": {
    "_cell_guid": "79c7e3d0-c299-4dcb-8224-4455121ee9b0",
    "_uuid": "d629ff2d2480ee46fbb7e2d37f6b5fab8052498a"
   },
   "outputs": [
    {
     "name": "stdout",
     "output_type": "stream",
     "text": [
      "Target: ['Survived']\n",
      "List of features: ['Pclass', 'Name', 'Sex', 'Age', 'SibSp', 'Parch', 'Ticket', 'Fare', 'Cabin', 'Embarked']\n",
      "List of numeric features: ['Survived', 'Pclass', 'Age', 'SibSp', 'Parch', 'Fare']\n",
      "List of categorical features: ['Name', 'Sex', 'Ticket', 'Cabin', 'Embarked']\n"
     ]
    }
   ],
   "source": [
    "\n",
    "train = pd.read_csv(DATA_FOLDER + 'train.csv', index_col='PassengerId')\n",
    "test = pd.read_csv(DATA_FOLDER + 'test.csv', index_col='PassengerId')\n",
    "submission = pd.read_csv(DATA_FOLDER + 'gender_submission.csv')\n",
    "\n",
    "target = [col for col in train.columns if col not in test.columns]\n",
    "features = [col for col in train.columns if col in test.columns]\n",
    "\n",
    "num_features = train._get_numeric_data().columns.tolist()\n",
    "cat_features = [col for col in train.columns if col not in num_features]\n",
    "\n",
    "print('Target: {}'.format(target))\n",
    "print('List of features: {}'.format(features))\n",
    "print('List of numeric features: {}'.format(num_features))\n",
    "print('List of categorical features: {}'.format(cat_features))"
   ]
  },
  {
   "cell_type": "markdown",
   "metadata": {},
   "source": [
    "Pclass should be classified at categorical features instead."
   ]
  },
  {
   "cell_type": "code",
   "execution_count": 160,
   "metadata": {},
   "outputs": [
    {
     "name": "stdout",
     "output_type": "stream",
     "text": [
      "<class 'pandas.core.frame.DataFrame'>\n",
      "Int64Index: 891 entries, 1 to 891\n",
      "Data columns (total 11 columns):\n",
      "Survived    891 non-null int64\n",
      "Pclass      891 non-null int64\n",
      "Name        891 non-null object\n",
      "Sex         891 non-null object\n",
      "Age         714 non-null float64\n",
      "SibSp       891 non-null int64\n",
      "Parch       891 non-null int64\n",
      "Ticket      891 non-null object\n",
      "Fare        891 non-null float64\n",
      "Cabin       204 non-null object\n",
      "Embarked    889 non-null object\n",
      "dtypes: float64(2), int64(4), object(5)\n",
      "memory usage: 83.5+ KB\n"
     ]
    }
   ],
   "source": [
    "train.info()"
   ]
  },
  {
   "cell_type": "markdown",
   "metadata": {},
   "source": [
    "---\n",
    "## Helper Functions\n",
    "\n",
    "1. **combineTrainTest** - For data transformation and feature engineering with needs to be applied to both Train and Test set consistently.\n",
    "2. **splitTrainTest** - For splitting the combined dataset back to train and test after data transformation and feature engineering.\n",
    "3. **plot_importances** - For showing the feature importances as determined by the model."
   ]
  },
  {
   "cell_type": "code",
   "execution_count": 161,
   "metadata": {},
   "outputs": [],
   "source": [
    "def combineTrainTest(train, test, features):\n",
    "    train = train[features]\n",
    "    test = test[features]\n",
    "    out = pd.concat([train, test])\n",
    "    return out\n",
    "\n",
    "def splitTrainTest(traintest, train, test, target):\n",
    "    train = traintest.loc[train.index].join(train[target])\n",
    "    test = traintest.loc[test.index]\n",
    "    return train, test\n",
    "\n",
    "def plot_importances(model, columns, top=20):\n",
    "    importances = pd.Series(data=model.feature_importances_, index=columns).sort_values()\n",
    "\n",
    "    plt.figure(figsize=(10,6))\n",
    "    importances[-top:].sort_values().plot(kind='barh', color='lightgreen')\n",
    "    plt.title('Features Importances')\n",
    "    plt.show()\n",
    "     "
   ]
  },
  {
   "cell_type": "markdown",
   "metadata": {},
   "source": [
    "---\n",
    "## Data Analysis and Feature Engineering"
   ]
  },
  {
   "cell_type": "markdown",
   "metadata": {},
   "source": [
    "Combining the train and test set together so that data transformation will be consistent and applied to both datasets."
   ]
  },
  {
   "cell_type": "code",
   "execution_count": 162,
   "metadata": {},
   "outputs": [],
   "source": [
    "traintest = combineTrainTest(train, test, features)"
   ]
  },
  {
   "cell_type": "markdown",
   "metadata": {},
   "source": [
    "Check columns with null values"
   ]
  },
  {
   "cell_type": "code",
   "execution_count": 163,
   "metadata": {},
   "outputs": [
    {
     "data": {
      "text/plain": [
       "Pclass      False\n",
       "Name        False\n",
       "Sex         False\n",
       "Age          True\n",
       "SibSp       False\n",
       "Parch       False\n",
       "Ticket      False\n",
       "Fare         True\n",
       "Cabin        True\n",
       "Embarked     True\n",
       "dtype: bool"
      ]
     },
     "execution_count": 163,
     "metadata": {},
     "output_type": "execute_result"
    }
   ],
   "source": [
    "traintest.isnull().any()"
   ]
  },
  {
   "cell_type": "markdown",
   "metadata": {},
   "source": [
    "### Embarked\n",
    "\n",
    "There is 2 records with no Embarked information.  Will fill the missing values with the mode of all Embarked field."
   ]
  },
  {
   "cell_type": "code",
   "execution_count": 164,
   "metadata": {},
   "outputs": [
    {
     "data": {
      "text/html": [
       "<div>\n",
       "<style scoped>\n",
       "    .dataframe tbody tr th:only-of-type {\n",
       "        vertical-align: middle;\n",
       "    }\n",
       "\n",
       "    .dataframe tbody tr th {\n",
       "        vertical-align: top;\n",
       "    }\n",
       "\n",
       "    .dataframe thead th {\n",
       "        text-align: right;\n",
       "    }\n",
       "</style>\n",
       "<table border=\"1\" class=\"dataframe\">\n",
       "  <thead>\n",
       "    <tr style=\"text-align: right;\">\n",
       "      <th></th>\n",
       "      <th>Pclass</th>\n",
       "      <th>Name</th>\n",
       "      <th>Sex</th>\n",
       "      <th>Age</th>\n",
       "      <th>SibSp</th>\n",
       "      <th>Parch</th>\n",
       "      <th>Ticket</th>\n",
       "      <th>Fare</th>\n",
       "      <th>Cabin</th>\n",
       "      <th>Embarked</th>\n",
       "    </tr>\n",
       "    <tr>\n",
       "      <th>PassengerId</th>\n",
       "      <th></th>\n",
       "      <th></th>\n",
       "      <th></th>\n",
       "      <th></th>\n",
       "      <th></th>\n",
       "      <th></th>\n",
       "      <th></th>\n",
       "      <th></th>\n",
       "      <th></th>\n",
       "      <th></th>\n",
       "    </tr>\n",
       "  </thead>\n",
       "  <tbody>\n",
       "    <tr>\n",
       "      <th>62</th>\n",
       "      <td>1</td>\n",
       "      <td>Icard, Miss. Amelie</td>\n",
       "      <td>female</td>\n",
       "      <td>38.0</td>\n",
       "      <td>0</td>\n",
       "      <td>0</td>\n",
       "      <td>113572</td>\n",
       "      <td>80.0</td>\n",
       "      <td>B28</td>\n",
       "      <td>NaN</td>\n",
       "    </tr>\n",
       "    <tr>\n",
       "      <th>830</th>\n",
       "      <td>1</td>\n",
       "      <td>Stone, Mrs. George Nelson (Martha Evelyn)</td>\n",
       "      <td>female</td>\n",
       "      <td>62.0</td>\n",
       "      <td>0</td>\n",
       "      <td>0</td>\n",
       "      <td>113572</td>\n",
       "      <td>80.0</td>\n",
       "      <td>B28</td>\n",
       "      <td>NaN</td>\n",
       "    </tr>\n",
       "  </tbody>\n",
       "</table>\n",
       "</div>"
      ],
      "text/plain": [
       "             Pclass                                       Name     Sex   Age  \\\n",
       "PassengerId                                                                    \n",
       "62                1                        Icard, Miss. Amelie  female  38.0   \n",
       "830               1  Stone, Mrs. George Nelson (Martha Evelyn)  female  62.0   \n",
       "\n",
       "             SibSp  Parch  Ticket  Fare Cabin Embarked  \n",
       "PassengerId                                             \n",
       "62               0      0  113572  80.0   B28      NaN  \n",
       "830              0      0  113572  80.0   B28      NaN  "
      ]
     },
     "execution_count": 164,
     "metadata": {},
     "output_type": "execute_result"
    }
   ],
   "source": [
    "traintest[traintest.Embarked.isnull()]"
   ]
  },
  {
   "cell_type": "code",
   "execution_count": 165,
   "metadata": {},
   "outputs": [],
   "source": [
    "modeEmbarked = traintest.Embarked.mode(dropna=True)[0]\n",
    "traintest.Embarked.fillna(modeEmbarked, inplace=True)"
   ]
  },
  {
   "cell_type": "markdown",
   "metadata": {},
   "source": [
    "### Fare\n",
    "\n",
    "There is only 1 record with missing Fare.  To update with median of all Fares with same Embarked, SibSp, Parch, Pclass"
   ]
  },
  {
   "cell_type": "code",
   "execution_count": 166,
   "metadata": {},
   "outputs": [
    {
     "data": {
      "text/html": [
       "<div>\n",
       "<style scoped>\n",
       "    .dataframe tbody tr th:only-of-type {\n",
       "        vertical-align: middle;\n",
       "    }\n",
       "\n",
       "    .dataframe tbody tr th {\n",
       "        vertical-align: top;\n",
       "    }\n",
       "\n",
       "    .dataframe thead th {\n",
       "        text-align: right;\n",
       "    }\n",
       "</style>\n",
       "<table border=\"1\" class=\"dataframe\">\n",
       "  <thead>\n",
       "    <tr style=\"text-align: right;\">\n",
       "      <th></th>\n",
       "      <th>Pclass</th>\n",
       "      <th>Name</th>\n",
       "      <th>Sex</th>\n",
       "      <th>Age</th>\n",
       "      <th>SibSp</th>\n",
       "      <th>Parch</th>\n",
       "      <th>Ticket</th>\n",
       "      <th>Fare</th>\n",
       "      <th>Cabin</th>\n",
       "      <th>Embarked</th>\n",
       "    </tr>\n",
       "    <tr>\n",
       "      <th>PassengerId</th>\n",
       "      <th></th>\n",
       "      <th></th>\n",
       "      <th></th>\n",
       "      <th></th>\n",
       "      <th></th>\n",
       "      <th></th>\n",
       "      <th></th>\n",
       "      <th></th>\n",
       "      <th></th>\n",
       "      <th></th>\n",
       "    </tr>\n",
       "  </thead>\n",
       "  <tbody>\n",
       "    <tr>\n",
       "      <th>1044</th>\n",
       "      <td>3</td>\n",
       "      <td>Storey, Mr. Thomas</td>\n",
       "      <td>male</td>\n",
       "      <td>60.5</td>\n",
       "      <td>0</td>\n",
       "      <td>0</td>\n",
       "      <td>3701</td>\n",
       "      <td>NaN</td>\n",
       "      <td>NaN</td>\n",
       "      <td>S</td>\n",
       "    </tr>\n",
       "  </tbody>\n",
       "</table>\n",
       "</div>"
      ],
      "text/plain": [
       "             Pclass                Name   Sex   Age  SibSp  Parch Ticket  \\\n",
       "PassengerId                                                                \n",
       "1044              3  Storey, Mr. Thomas  male  60.5      0      0   3701   \n",
       "\n",
       "             Fare Cabin Embarked  \n",
       "PassengerId                       \n",
       "1044          NaN   NaN        S  "
      ]
     },
     "execution_count": 166,
     "metadata": {},
     "output_type": "execute_result"
    }
   ],
   "source": [
    "traintest[traintest.Fare.isnull()]"
   ]
  },
  {
   "cell_type": "code",
   "execution_count": 167,
   "metadata": {},
   "outputs": [
    {
     "name": "stdout",
     "output_type": "stream",
     "text": [
      "Median Fare to fill NA fare: 7.8958\n"
     ]
    }
   ],
   "source": [
    "medianFare = traintest[(traintest.Pclass == 3) & \n",
    "          (traintest.Embarked == 'S') & \n",
    "          (traintest.SibSp == 0) & \n",
    "          (traintest.Parch == 0)].Fare.median()\n",
    "\n",
    "print('Median Fare to fill NA fare: {}'.format(medianFare))"
   ]
  },
  {
   "cell_type": "markdown",
   "metadata": {},
   "source": [
    "Neatly updated with **Groupby - Transform**"
   ]
  },
  {
   "cell_type": "code",
   "execution_count": 168,
   "metadata": {},
   "outputs": [],
   "source": [
    "traintest['Fare'] = traintest.groupby(['Pclass', 'Embarked', 'SibSp', 'Parch'])['Fare'].transform(lambda x: x.fillna(x.median()))"
   ]
  },
  {
   "cell_type": "markdown",
   "metadata": {},
   "source": [
    "### Cabin\n",
    "\n",
    "There are a couple of information that can be engineered out from the Cabin data.  New features engineered:\n",
    "- **Deck**: first character of each cabin\n",
    "- **Rooms**: number of rooms book by each individual.  Possibly connecting rooms if more than 1.\n",
    "- **RoomNum**: Room number.  Expect rooms to be numbered in sequence on each deck.  Eg: Small number at the front and bigger number at the back.\n",
    "- **NoCabin**: Whether the passenger was assigned a cabin.  Passenger with no cabin could be working on the ship.  On the other hand, if they are working on the ship why would they have tickets and fares?\n",
    "\n",
    "**<span style='color:red'>EXCLUDED</span>**<br>\n",
    "All except NoCabin were excluded because these features did not appear to be important for survival predictions.  Sinking of the ships took time.  Unlikely the passengers would remain in the rooms and allocated deck when fighting for survival.  Cabin data not likely to be useful to determine whether passenger belonged to Upper or Lower class."
   ]
  },
  {
   "cell_type": "code",
   "execution_count": 169,
   "metadata": {},
   "outputs": [],
   "source": [
    "# traintest['Deck'] = traintest['Cabin'].str[0]\n",
    "\n",
    "# traintest['RoomNum'] = traintest['Cabin'].apply(lambda x: x.split()[-1][1:] if x is not np.nan else -1)\n",
    "# traintest.loc[traintest['RoomNum'] == '', 'RoomNum'] = -0\n",
    "# traintest.RoomNum = traintest.RoomNum.astype(int)\n",
    "\n",
    "# traintest['Rooms'] = traintest['Cabin'].apply(lambda x: len(x.split()) if x is not np.nan else -1)\n",
    "\n",
    "traintest['NoCabin'] = traintest['Cabin'].isnull()"
   ]
  },
  {
   "cell_type": "markdown",
   "metadata": {},
   "source": [
    "### Name\n",
    "\n",
    "Titles of each individuals can be engineering out from the names.  Using **nameparser** library to help in the extraction to create the new **Title** feature.\n",
    "\n",
    "In addition, the last name can be extracted and be used as an potential indicator whether the individual come from a large family.\n",
    "\n",
    "**<span style='color:red'>EXCLUDED</span>**<br>\n",
    "Last Name Size did not appear to be important for survival prediction."
   ]
  },
  {
   "cell_type": "code",
   "execution_count": 170,
   "metadata": {},
   "outputs": [],
   "source": [
    "from nameparser import HumanName\n",
    "traintest['Title'] = traintest.Name.apply(lambda x: HumanName(x)['title'])\n",
    "traintest['Title'] = traintest['Title'].str.replace('[^\\w\\s]','')\n",
    "traintest['Title'] = traintest['Title'].str.replace('the Countess of','Countess')\n"
   ]
  },
  {
   "cell_type": "code",
   "execution_count": 171,
   "metadata": {},
   "outputs": [],
   "source": [
    "traintest['LastName'] = traintest.Name.apply(lambda x: HumanName(x)['last'])\n",
    "# lastname = traintest.groupby('LastName').size().sort_values(ascending=False)\n",
    "\n",
    "# lastname_map = {\n",
    "#     1: \"Single\",\n",
    "#     2: \"Small\",\n",
    "#     3: \"Small\",\n",
    "#     4: \"Normal\",\n",
    "#     5: \"Normal\",\n",
    "#     6: \"Normal\",\n",
    "#     7: \"Big\",\n",
    "#     8: \"Big\",\n",
    "#     9: \"Big\",\n",
    "#     10: \"Huge\",\n",
    "#     11: \"Huge\",\n",
    "# }\n",
    "\n",
    "# traintest['LastNameSize'] = traintest['LastName'].replace(lastname.replace(lastname_map).to_dict())"
   ]
  },
  {
   "cell_type": "markdown",
   "metadata": {},
   "source": [
    "### Ticket\n",
    "\n",
    "**<span style='color:red'>EXCLUDED</span>**<br>\n",
    "Ticket information will be dropped.  None of the features engineered from ticket appears to be useful"
   ]
  },
  {
   "cell_type": "code",
   "execution_count": 172,
   "metadata": {},
   "outputs": [],
   "source": [
    "# def processTicket(ticket):\n",
    "#     if len(ticket.split()) > 1:\n",
    "#         if len(''.join(ticket.split()[1:])) > 2:\n",
    "#             tickettype, ticketbatch = re.sub(r'[^\\w\\s]','',ticket.split()[0]), ''.join(ticket.split()[1:])[:-2]\n",
    "#         else:\n",
    "#             tickettype, ticketbatch = re.sub(r'[^\\w\\s]','',ticket.split()[0]), ''.join(ticket.split()[1:])\n",
    "#     else:\n",
    "#         tickettype, ticketbatch = 'Number', ticket[:-2]\n",
    "#     return tickettype, ticketbatch "
   ]
  },
  {
   "cell_type": "code",
   "execution_count": 173,
   "metadata": {},
   "outputs": [],
   "source": [
    "# traintest[['TicketType', 'TicketBatch']] = traintest.Ticket.apply(lambda x: processTicket(x)).apply(pd.Series)"
   ]
  },
  {
   "cell_type": "markdown",
   "metadata": {},
   "source": [
    "### Age\n",
    "\n",
    "Filling up missing Age with median of passengers with the same **Title** groupings"
   ]
  },
  {
   "cell_type": "code",
   "execution_count": 174,
   "metadata": {},
   "outputs": [],
   "source": [
    "traintest['Age'] = traintest.groupby('Title')['Age'].transform(lambda x: x.fillna(x.median()))"
   ]
  },
  {
   "cell_type": "markdown",
   "metadata": {},
   "source": [
    "### Others\n",
    "\n",
    "1. Binning the less popular titles into Others\n",
    "2. Create additional feature to represent Family size by adding SibSp, Parch and 1.\n"
   ]
  },
  {
   "cell_type": "code",
   "execution_count": 175,
   "metadata": {},
   "outputs": [],
   "source": [
    "## Select the top 4 titles only\n",
    "topTitle = traintest.groupby('Title').size().sort_values(ascending=False)[0:4].index.tolist()\n",
    "traintest['Title'] = traintest['Title'].apply(lambda x: x if x in topTitle else 'Other')\n",
    "\n",
    "traintest['FamilySize'] = traintest.SibSp + traintest.Parch + 1"
   ]
  },
  {
   "cell_type": "markdown",
   "metadata": {},
   "source": [
    "### Others\n",
    "\n",
    "1. **AgeGroup**: Binning of Age\n",
    "2. **FareGroup**: Binning of Fare\n",
    "3. **Fare_Calculate**: Average Fare by Family Size\n",
    "4. **FareCalcGroup**: Binning of Fare_Calculate\n",
    "5. **IsAlone**: Whether the passenger is alone"
   ]
  },
  {
   "cell_type": "code",
   "execution_count": 176,
   "metadata": {},
   "outputs": [],
   "source": [
    "traintest['AgeGroup'] = pd.cut(traintest['Age'].astype(int), 5, labels=['Child','Young','Adult','Old','Aged'])\n",
    "traintest['FareGroup'] = pd.qcut(traintest['Fare'], 4, labels=['Low','Average','High','Overpriced'])\n",
    "traintest['Fare_Calculate'] = traintest['Fare'] / traintest['FamilySize']\n",
    "traintest['FareCalcGroup'] = pd.qcut(traintest['Fare_Calculate'], 4, labels=['Low','Average','High','Overpriced'])\n",
    "traintest['IsAlone'] = traintest['FamilySize'] == 1"
   ]
  },
  {
   "cell_type": "markdown",
   "metadata": {},
   "source": [
    "### One-hot Encoding for Categorial Variables\n",
    "- Title\n",
    "- Embarked\n",
    "- Sex\n",
    "- Age Group\n",
    "- Fare Group\n",
    "- Fare Calculate Group\n",
    "\n",
    "**<span style='color:red'>EXCLUDED</span>**<br>\n",
    "- Deck\n",
    "- Last Name Size\n",
    "- Ticket Type\n",
    "- Ticket Batch"
   ]
  },
  {
   "cell_type": "code",
   "execution_count": 177,
   "metadata": {},
   "outputs": [],
   "source": [
    "traintest = traintest.join(pd.get_dummies(traintest.Title, drop_first=True, prefix='Title')).drop('Title', axis=1)\n",
    "traintest = traintest.join(pd.get_dummies(traintest.Embarked, drop_first=True, prefix='Embarked')).drop('Embarked', axis=1)\n",
    "traintest = traintest.join(pd.get_dummies(traintest.Sex, drop_first=True, prefix='Sex')).drop('Sex', axis=1)\n",
    "traintest = traintest.join(pd.get_dummies(traintest.AgeGroup, drop_first=True, prefix='AgeGroup')).drop('AgeGroup', axis=1)\n",
    "traintest = traintest.join(pd.get_dummies(traintest.FareGroup, drop_first=True, prefix='FareGroup')).drop('FareGroup', axis=1)\n",
    "traintest = traintest.join(pd.get_dummies(traintest.FareCalcGroup, drop_first=True, prefix='FareCalcGroup')).drop('FareCalcGroup', axis=1)\n",
    "\n",
    "## NOT USEFUL\n",
    "# traintest = traintest.join(pd.get_dummies(traintest.Deck, prefix='Deck')).drop('Deck', axis=1)\n",
    "# traintest = traintest.join(pd.get_dummies(traintest.LastNameSize, drop_first=True, prefix='LastNameSize')).drop('LastNameSize', axis=1)\n",
    "# traintest = traintest.join(pd.get_dummies(traintest.TicketType, drop_first=True, prefix='TicketType')).drop('TicketType', axis=1)\n",
    "# traintest = traintest.join(pd.get_dummies(traintest.TicketBatch, drop_first=True, prefix='TicketBatch')).drop('TicketBatch', axis=1)"
   ]
  },
  {
   "cell_type": "markdown",
   "metadata": {},
   "source": [
    "Dropping columns deemed not useful now for tree-based model for now\n",
    "- Name\n",
    "- Ticket\n",
    "- Cabin\n",
    "- Last Name"
   ]
  },
  {
   "cell_type": "code",
   "execution_count": 178,
   "metadata": {},
   "outputs": [],
   "source": [
    "traintest.drop(['Name', 'Ticket', 'Cabin', 'LastName'], inplace=True, axis=1)"
   ]
  },
  {
   "cell_type": "code",
   "execution_count": 179,
   "metadata": {},
   "outputs": [
    {
     "data": {
      "text/plain": [
       "(1309, 26)"
      ]
     },
     "execution_count": 179,
     "metadata": {},
     "output_type": "execute_result"
    }
   ],
   "source": [
    "traintest.shape"
   ]
  },
  {
   "cell_type": "code",
   "execution_count": 180,
   "metadata": {},
   "outputs": [
    {
     "name": "stdout",
     "output_type": "stream",
     "text": [
      "Missing data in columns: False\n"
     ]
    }
   ],
   "source": [
    "print('Missing data in columns: {}'.format(traintest.isnull().any().any()))"
   ]
  },
  {
   "cell_type": "code",
   "execution_count": 181,
   "metadata": {},
   "outputs": [
    {
     "name": "stdout",
     "output_type": "stream",
     "text": [
      "(891, 26)\n",
      "(891, 1)\n",
      "(418, 26)\n"
     ]
    }
   ],
   "source": [
    "Xy, X_test = splitTrainTest(traintest, train, test, target)\n",
    "\n",
    "X = Xy.drop(target, axis=1)\n",
    "y = Xy[target]\n",
    "\n",
    "print(X.shape)\n",
    "print(y.shape)\n",
    "print(X_test.shape)"
   ]
  },
  {
   "cell_type": "code",
   "execution_count": 182,
   "metadata": {},
   "outputs": [
    {
     "data": {
      "text/html": [
       "<div>\n",
       "<style scoped>\n",
       "    .dataframe tbody tr th:only-of-type {\n",
       "        vertical-align: middle;\n",
       "    }\n",
       "\n",
       "    .dataframe tbody tr th {\n",
       "        vertical-align: top;\n",
       "    }\n",
       "\n",
       "    .dataframe thead th {\n",
       "        text-align: right;\n",
       "    }\n",
       "</style>\n",
       "<table border=\"1\" class=\"dataframe\">\n",
       "  <thead>\n",
       "    <tr style=\"text-align: right;\">\n",
       "      <th></th>\n",
       "      <th>Pclass</th>\n",
       "      <th>Age</th>\n",
       "      <th>SibSp</th>\n",
       "      <th>Parch</th>\n",
       "      <th>Fare</th>\n",
       "      <th>NoCabin</th>\n",
       "      <th>FamilySize</th>\n",
       "      <th>Fare_Calculate</th>\n",
       "      <th>IsAlone</th>\n",
       "      <th>Title_Miss</th>\n",
       "      <th>Title_Mr</th>\n",
       "      <th>Title_Mrs</th>\n",
       "      <th>Title_Other</th>\n",
       "      <th>Embarked_Q</th>\n",
       "      <th>Embarked_S</th>\n",
       "      <th>Sex_male</th>\n",
       "      <th>AgeGroup_Young</th>\n",
       "      <th>AgeGroup_Adult</th>\n",
       "      <th>AgeGroup_Old</th>\n",
       "      <th>AgeGroup_Aged</th>\n",
       "      <th>FareGroup_Average</th>\n",
       "      <th>FareGroup_High</th>\n",
       "      <th>FareGroup_Overpriced</th>\n",
       "      <th>FareCalcGroup_Average</th>\n",
       "      <th>FareCalcGroup_High</th>\n",
       "      <th>FareCalcGroup_Overpriced</th>\n",
       "    </tr>\n",
       "    <tr>\n",
       "      <th>PassengerId</th>\n",
       "      <th></th>\n",
       "      <th></th>\n",
       "      <th></th>\n",
       "      <th></th>\n",
       "      <th></th>\n",
       "      <th></th>\n",
       "      <th></th>\n",
       "      <th></th>\n",
       "      <th></th>\n",
       "      <th></th>\n",
       "      <th></th>\n",
       "      <th></th>\n",
       "      <th></th>\n",
       "      <th></th>\n",
       "      <th></th>\n",
       "      <th></th>\n",
       "      <th></th>\n",
       "      <th></th>\n",
       "      <th></th>\n",
       "      <th></th>\n",
       "      <th></th>\n",
       "      <th></th>\n",
       "      <th></th>\n",
       "      <th></th>\n",
       "      <th></th>\n",
       "      <th></th>\n",
       "    </tr>\n",
       "  </thead>\n",
       "  <tbody>\n",
       "    <tr>\n",
       "      <th>1</th>\n",
       "      <td>3</td>\n",
       "      <td>22.0</td>\n",
       "      <td>1</td>\n",
       "      <td>0</td>\n",
       "      <td>7.2500</td>\n",
       "      <td>True</td>\n",
       "      <td>2</td>\n",
       "      <td>3.62500</td>\n",
       "      <td>False</td>\n",
       "      <td>0</td>\n",
       "      <td>1</td>\n",
       "      <td>0</td>\n",
       "      <td>0</td>\n",
       "      <td>0</td>\n",
       "      <td>1</td>\n",
       "      <td>1</td>\n",
       "      <td>1</td>\n",
       "      <td>0</td>\n",
       "      <td>0</td>\n",
       "      <td>0</td>\n",
       "      <td>0</td>\n",
       "      <td>0</td>\n",
       "      <td>0</td>\n",
       "      <td>0</td>\n",
       "      <td>0</td>\n",
       "      <td>0</td>\n",
       "    </tr>\n",
       "    <tr>\n",
       "      <th>2</th>\n",
       "      <td>1</td>\n",
       "      <td>38.0</td>\n",
       "      <td>1</td>\n",
       "      <td>0</td>\n",
       "      <td>71.2833</td>\n",
       "      <td>False</td>\n",
       "      <td>2</td>\n",
       "      <td>35.64165</td>\n",
       "      <td>False</td>\n",
       "      <td>0</td>\n",
       "      <td>0</td>\n",
       "      <td>1</td>\n",
       "      <td>0</td>\n",
       "      <td>0</td>\n",
       "      <td>0</td>\n",
       "      <td>0</td>\n",
       "      <td>0</td>\n",
       "      <td>1</td>\n",
       "      <td>0</td>\n",
       "      <td>0</td>\n",
       "      <td>0</td>\n",
       "      <td>0</td>\n",
       "      <td>1</td>\n",
       "      <td>0</td>\n",
       "      <td>0</td>\n",
       "      <td>1</td>\n",
       "    </tr>\n",
       "    <tr>\n",
       "      <th>3</th>\n",
       "      <td>3</td>\n",
       "      <td>26.0</td>\n",
       "      <td>0</td>\n",
       "      <td>0</td>\n",
       "      <td>7.9250</td>\n",
       "      <td>True</td>\n",
       "      <td>1</td>\n",
       "      <td>7.92500</td>\n",
       "      <td>True</td>\n",
       "      <td>1</td>\n",
       "      <td>0</td>\n",
       "      <td>0</td>\n",
       "      <td>0</td>\n",
       "      <td>0</td>\n",
       "      <td>1</td>\n",
       "      <td>0</td>\n",
       "      <td>1</td>\n",
       "      <td>0</td>\n",
       "      <td>0</td>\n",
       "      <td>0</td>\n",
       "      <td>1</td>\n",
       "      <td>0</td>\n",
       "      <td>0</td>\n",
       "      <td>1</td>\n",
       "      <td>0</td>\n",
       "      <td>0</td>\n",
       "    </tr>\n",
       "    <tr>\n",
       "      <th>4</th>\n",
       "      <td>1</td>\n",
       "      <td>35.0</td>\n",
       "      <td>1</td>\n",
       "      <td>0</td>\n",
       "      <td>53.1000</td>\n",
       "      <td>False</td>\n",
       "      <td>2</td>\n",
       "      <td>26.55000</td>\n",
       "      <td>False</td>\n",
       "      <td>0</td>\n",
       "      <td>0</td>\n",
       "      <td>1</td>\n",
       "      <td>0</td>\n",
       "      <td>0</td>\n",
       "      <td>1</td>\n",
       "      <td>0</td>\n",
       "      <td>0</td>\n",
       "      <td>1</td>\n",
       "      <td>0</td>\n",
       "      <td>0</td>\n",
       "      <td>0</td>\n",
       "      <td>0</td>\n",
       "      <td>1</td>\n",
       "      <td>0</td>\n",
       "      <td>0</td>\n",
       "      <td>1</td>\n",
       "    </tr>\n",
       "    <tr>\n",
       "      <th>5</th>\n",
       "      <td>3</td>\n",
       "      <td>35.0</td>\n",
       "      <td>0</td>\n",
       "      <td>0</td>\n",
       "      <td>8.0500</td>\n",
       "      <td>True</td>\n",
       "      <td>1</td>\n",
       "      <td>8.05000</td>\n",
       "      <td>True</td>\n",
       "      <td>0</td>\n",
       "      <td>1</td>\n",
       "      <td>0</td>\n",
       "      <td>0</td>\n",
       "      <td>0</td>\n",
       "      <td>1</td>\n",
       "      <td>1</td>\n",
       "      <td>0</td>\n",
       "      <td>1</td>\n",
       "      <td>0</td>\n",
       "      <td>0</td>\n",
       "      <td>1</td>\n",
       "      <td>0</td>\n",
       "      <td>0</td>\n",
       "      <td>1</td>\n",
       "      <td>0</td>\n",
       "      <td>0</td>\n",
       "    </tr>\n",
       "  </tbody>\n",
       "</table>\n",
       "</div>"
      ],
      "text/plain": [
       "             Pclass   Age  SibSp  Parch     Fare  NoCabin  FamilySize  \\\n",
       "PassengerId                                                             \n",
       "1                 3  22.0      1      0   7.2500     True           2   \n",
       "2                 1  38.0      1      0  71.2833    False           2   \n",
       "3                 3  26.0      0      0   7.9250     True           1   \n",
       "4                 1  35.0      1      0  53.1000    False           2   \n",
       "5                 3  35.0      0      0   8.0500     True           1   \n",
       "\n",
       "             Fare_Calculate  IsAlone  Title_Miss  Title_Mr  Title_Mrs  \\\n",
       "PassengerId                                                             \n",
       "1                   3.62500    False           0         1          0   \n",
       "2                  35.64165    False           0         0          1   \n",
       "3                   7.92500     True           1         0          0   \n",
       "4                  26.55000    False           0         0          1   \n",
       "5                   8.05000     True           0         1          0   \n",
       "\n",
       "             Title_Other  Embarked_Q  Embarked_S  Sex_male  AgeGroup_Young  \\\n",
       "PassengerId                                                                  \n",
       "1                      0           0           1         1               1   \n",
       "2                      0           0           0         0               0   \n",
       "3                      0           0           1         0               1   \n",
       "4                      0           0           1         0               0   \n",
       "5                      0           0           1         1               0   \n",
       "\n",
       "             AgeGroup_Adult  AgeGroup_Old  AgeGroup_Aged  FareGroup_Average  \\\n",
       "PassengerId                                                                   \n",
       "1                         0             0              0                  0   \n",
       "2                         1             0              0                  0   \n",
       "3                         0             0              0                  1   \n",
       "4                         1             0              0                  0   \n",
       "5                         1             0              0                  1   \n",
       "\n",
       "             FareGroup_High  FareGroup_Overpriced  FareCalcGroup_Average  \\\n",
       "PassengerId                                                                \n",
       "1                         0                     0                      0   \n",
       "2                         0                     1                      0   \n",
       "3                         0                     0                      1   \n",
       "4                         0                     1                      0   \n",
       "5                         0                     0                      1   \n",
       "\n",
       "             FareCalcGroup_High  FareCalcGroup_Overpriced  \n",
       "PassengerId                                                \n",
       "1                             0                         0  \n",
       "2                             0                         1  \n",
       "3                             0                         0  \n",
       "4                             0                         1  \n",
       "5                             0                         0  "
      ]
     },
     "execution_count": 182,
     "metadata": {},
     "output_type": "execute_result"
    }
   ],
   "source": [
    "X.head()"
   ]
  },
  {
   "cell_type": "markdown",
   "metadata": {},
   "source": [
    "## Tree-Based Model Training\n",
    "\n",
    "Focus on the following models:\n",
    "1. Adaptive Boosting (Adaboost)\n",
    "2. Support Vector Machine (SVM)\n",
    "3. CatBoost\n",
    "4. LightGBM\n",
    "5. Random Forest\n",
    "6. Histogram-Based Gradient Boosting\n",
    "6. Gradient Boosting Machine\n",
    "7. XGBoost\n",
    "8. Voting Classifier"
   ]
  },
  {
   "cell_type": "code",
   "execution_count": 183,
   "metadata": {},
   "outputs": [],
   "source": [
    "from sklearn.model_selection import train_test_split\n",
    "from sklearn.model_selection import cross_val_score, ShuffleSplit, cross_validate\n",
    "from sklearn.model_selection import RepeatedStratifiedKFold\n",
    "from sklearn.metrics import accuracy_score\n",
    "from sklearn.metrics import roc_auc_score\n",
    "\n",
    "from sklearn.tree import DecisionTreeClassifier\n",
    "from sklearn.ensemble import AdaBoostClassifier\n",
    "from sklearn.ensemble import RandomForestClassifier\n",
    "from sklearn.ensemble import GradientBoostingClassifier\n",
    "from sklearn.experimental import enable_hist_gradient_boosting\n",
    "from sklearn.ensemble import HistGradientBoostingClassifier\n",
    "from lightgbm import LGBMClassifier\n",
    "from catboost import CatBoostClassifier\n",
    "from sklearn.svm import SVC\n",
    "from xgboost import XGBClassifier\n",
    "from sklearn.ensemble import VotingClassifier\n",
    "\n",
    "from sklearn.model_selection import GridSearchCV\n",
    "\n",
    "SEED = 3567\n",
    "\n",
    "# gb = GradientBoostingClassifier(max_depth=6, subsample=0.9, max_features=0.3, n_estimators=180, random_state=SEED)\n",
    "# rf = RandomForestClassifier(n_estimators=100, oob_score=True, random_state=SEED)\n",
    "# ada = AdaBoostClassifier(base_estimator=dt, n_estimators=180, random_state=SEED)\n",
    "# dt = DecisionTreeClassifier(max_depth=6, min_samples_leaf=0.13, random_state=SEED)\n",
    "# cat = CatBoostClassifier(n_estimators=100, subsample=0.8, max_depth=4, learning_rate=0.01)"
   ]
  },
  {
   "cell_type": "markdown",
   "metadata": {},
   "source": [
    "Preparing parameters for hyperparameters tuning using GridSearchCV"
   ]
  },
  {
   "cell_type": "code",
   "execution_count": 184,
   "metadata": {},
   "outputs": [],
   "source": [
    "models = [\n",
    "    ('ada', AdaBoostClassifier()),\n",
    "    ('svc', SVC(probability=True)),    \n",
    "    ('cat', CatBoostClassifier(verbose=0)),\n",
    "    ('lgbm', LGBMClassifier()),\n",
    "    ('hgb', HistGradientBoostingClassifier()),\n",
    "    ('rf', RandomForestClassifier()),\n",
    "    ('gb', GradientBoostingClassifier()),\n",
    "    ('xgb', XGBClassifier())\n",
    "]\n",
    "\n",
    "{'colsample_bytree': 0.8, 'learning_rate': 0.03, 'max_depth': 8, \n",
    " 'n_estimators': 200, 'random_state': 3567, 'reg_alpha': 0.1, 'reg_lambda': 0.9, 'subsample': 0.8}\n",
    "\n",
    "n_estimators = [500]\n",
    "max_features = [0.8]\n",
    "max_depth = [6, 8, 10]\n",
    "learning_rate = [.01, .03, .05]\n",
    "gamma = [0.01, 0.02, 0.03]\n",
    "subsample = [0.8, 0.9, 1]\n",
    "\n",
    "# n_estimators = list(np.arange(150,220,30))\n",
    "# max_features = list(np.arange(0.5,1.0,0.2))\n",
    "# max_depth = list(np.arange(7,12,2))\n",
    "# colsample_bytree = list(np.arange(0.3,0.6,0.2))\n",
    "# lambda_l2 = list(np.arange(0.6,1.0,0.3))\n",
    "# alpha_l1 = list(np.arange(0.01,0.1,0.04))\n",
    "\n",
    "grid_param = [\n",
    "    [{ ## ada\n",
    "        'n_estimators': n_estimators,\n",
    "        'learning_rate': learning_rate,\n",
    "        'random_state': [SEED]\n",
    "    }],\n",
    "    [{ ## svc\n",
    "        'C': [1,2,3,4,5],\n",
    "        'gamma': gamma,\n",
    "        'decision_function_shape': ['ovo', 'ovr'],\n",
    "        'probability': [True],\n",
    "        'random_state': [SEED] \n",
    "    }],    \n",
    "    [{ ## cat\n",
    "        'learning_rate': learning_rate,\n",
    "        'max_depth': max_depth,\n",
    "        'n_estimators': n_estimators,\n",
    "        'subsample': subsample,\n",
    "        'random_state': [SEED]  \n",
    "    }],\n",
    "    [{ ## lgbm\n",
    "        'learning_rate': learning_rate,\n",
    "        'max_depth': max_depth,\n",
    "        'n_estimators': n_estimators,\n",
    "#         'reg_alpha': alpha_l1,\n",
    "#         'reg_lambda': lambda_l2,\n",
    "        'subsample': subsample,\n",
    "        'colsample_bytree': max_features,\n",
    "        'random_state': [SEED]  \n",
    "    }],\n",
    "    [{ ## hgb\n",
    "        'learning_rate': learning_rate,\n",
    "        'max_depth': max_depth,\n",
    "        'random_state': [SEED]\n",
    "    }],\n",
    "    [{ ## rf\n",
    "        'n_estimators': n_estimators,\n",
    "        'max_features': max_features,\n",
    "        'max_depth': max_depth,\n",
    "        'max_samples': subsample,\n",
    "        'criterion': ['gini', 'entropy'],\n",
    "        'oob_score': [True],\n",
    "        'random_state': [SEED]\n",
    "    }],\n",
    "    [{ ## gb\n",
    "        'n_estimators': n_estimators,\n",
    "        'subsample': subsample,\n",
    "        'max_features': max_features,\n",
    "        'max_depth': max_depth,\n",
    "        'learning_rate': learning_rate,\n",
    "        'random_state': [SEED]\n",
    "    }],\n",
    "    [{ ## xgb\n",
    "        'learning_rate': learning_rate,\n",
    "        'max_depth': max_depth,\n",
    "        'n_estimators': n_estimators,\n",
    "        'gamma': gamma,\n",
    "#         'reg_alpha': alpha_l1,\n",
    "#         'reg_lambda': lambda_l2,\n",
    "        'subsample': subsample,\n",
    "        'colsample_bytree': max_features,\n",
    "        'seed': [SEED]  \n",
    "    }]\n",
    "]"
   ]
  },
  {
   "cell_type": "markdown",
   "metadata": {},
   "source": [
    "Cross Validation Splits"
   ]
  },
  {
   "cell_type": "code",
   "execution_count": 185,
   "metadata": {},
   "outputs": [],
   "source": [
    "# X_train, X_valid, y_train, y_valid = train_test_split(X, y, test_size=0.2, random_state=SEED, stratify=y)\n",
    "# cv_split = ShuffleSplit(n_splits=20, test_size=0.2, train_size=0.8, random_state = SEED)\n",
    "cv_split = RepeatedStratifiedKFold(n_splits=20, n_repeats=5, random_state=SEED)"
   ]
  },
  {
   "cell_type": "markdown",
   "metadata": {},
   "source": [
    "Tuning all models to prepare for Voting Classifier.  This will take a long time to run."
   ]
  },
  {
   "cell_type": "code",
   "execution_count": 186,
   "metadata": {
    "scrolled": false
   },
   "outputs": [
    {
     "name": "stdout",
     "output_type": "stream",
     "text": [
      "AdaBoostClassifier(algorithm='SAMME.R', base_estimator=None, learning_rate=1.0,\n",
      "                   n_estimators=50, random_state=None)\n",
      "[{'n_estimators': [500], 'learning_rate': [0.01, 0.03, 0.05], 'random_state': [3567]}]\n",
      "######\n",
      "The best parameter for AdaBoostClassifier is {'learning_rate': 0.05, 'n_estimators': 500, 'random_state': 3567} with a runtime of 5.92 minutes.\n",
      "######\n",
      "\n",
      "SVC(C=1.0, break_ties=False, cache_size=200, class_weight=None, coef0=0.0,\n",
      "    decision_function_shape='ovr', degree=3, gamma='scale', kernel='rbf',\n",
      "    max_iter=-1, probability=True, random_state=None, shrinking=True, tol=0.001,\n",
      "    verbose=False)\n",
      "[{'C': [1, 2, 3, 4, 5], 'gamma': [0.01, 0.02, 0.03], 'decision_function_shape': ['ovo', 'ovr'], 'probability': [True], 'random_state': [3567]}]\n",
      "######\n",
      "The best parameter for SVC is {'C': 5, 'decision_function_shape': 'ovo', 'gamma': 0.01, 'probability': True, 'random_state': 3567} with a runtime of 7.07 minutes.\n",
      "######\n",
      "\n",
      "<catboost.core.CatBoostClassifier object at 0x7fd68b874820>\n",
      "[{'learning_rate': [0.01, 0.03, 0.05], 'max_depth': [6, 8, 10], 'n_estimators': [500], 'subsample': [0.8, 0.9, 1], 'random_state': [3567]}]\n",
      "######\n",
      "The best parameter for CatBoostClassifier is {'learning_rate': 0.05, 'max_depth': 6, 'n_estimators': 500, 'random_state': 3567, 'subsample': 0.9} with a runtime of 133.61 minutes.\n",
      "######\n",
      "\n",
      "LGBMClassifier(boosting_type='gbdt', class_weight=None, colsample_bytree=1.0,\n",
      "               importance_type='split', learning_rate=0.1, max_depth=-1,\n",
      "               min_child_samples=20, min_child_weight=0.001, min_split_gain=0.0,\n",
      "               n_estimators=100, n_jobs=-1, num_leaves=31, objective=None,\n",
      "               random_state=None, reg_alpha=0.0, reg_lambda=0.0, silent=True,\n",
      "               subsample=1.0, subsample_for_bin=200000, subsample_freq=0)\n",
      "[{'learning_rate': [0.01, 0.03, 0.05], 'max_depth': [6, 8, 10], 'n_estimators': [500], 'subsample': [0.8, 0.9, 1], 'colsample_bytree': [0.8], 'random_state': [3567]}]\n",
      "######\n",
      "The best parameter for LGBMClassifier is {'colsample_bytree': 0.8, 'learning_rate': 0.01, 'max_depth': 10, 'n_estimators': 500, 'random_state': 3567, 'subsample': 0.8} with a runtime of 16.81 minutes.\n",
      "######\n",
      "\n",
      "HistGradientBoostingClassifier(l2_regularization=0.0, learning_rate=0.1,\n",
      "                               loss='auto', max_bins=255, max_depth=None,\n",
      "                               max_iter=100, max_leaf_nodes=31,\n",
      "                               min_samples_leaf=20, n_iter_no_change=None,\n",
      "                               random_state=None, scoring=None, tol=1e-07,\n",
      "                               validation_fraction=0.1, verbose=0,\n",
      "                               warm_start=False)\n",
      "[{'learning_rate': [0.01, 0.03, 0.05], 'max_depth': [6, 8, 10], 'random_state': [3567]}]\n",
      "######\n",
      "The best parameter for HistGradientBoostingClassifier is {'learning_rate': 0.01, 'max_depth': 10, 'random_state': 3567} with a runtime of 12.26 minutes.\n",
      "######\n",
      "\n",
      "RandomForestClassifier(bootstrap=True, ccp_alpha=0.0, class_weight=None,\n",
      "                       criterion='gini', max_depth=None, max_features='auto',\n",
      "                       max_leaf_nodes=None, max_samples=None,\n",
      "                       min_impurity_decrease=0.0, min_impurity_split=None,\n",
      "                       min_samples_leaf=1, min_samples_split=2,\n",
      "                       min_weight_fraction_leaf=0.0, n_estimators=100,\n",
      "                       n_jobs=None, oob_score=False, random_state=None,\n",
      "                       verbose=0, warm_start=False)\n",
      "[{'n_estimators': [500], 'max_features': [0.8], 'max_depth': [6, 8, 10], 'max_samples': [0.8, 0.9, 1], 'criterion': ['gini', 'entropy'], 'oob_score': [True], 'random_state': [3567]}]\n",
      "######\n",
      "The best parameter for RandomForestClassifier is {'criterion': 'entropy', 'max_depth': 8, 'max_features': 0.8, 'max_samples': 0.9, 'n_estimators': 500, 'oob_score': True, 'random_state': 3567} with a runtime of 30.75 minutes.\n",
      "######\n",
      "\n",
      "GradientBoostingClassifier(ccp_alpha=0.0, criterion='friedman_mse', init=None,\n",
      "                           learning_rate=0.1, loss='deviance', max_depth=3,\n",
      "                           max_features=None, max_leaf_nodes=None,\n",
      "                           min_impurity_decrease=0.0, min_impurity_split=None,\n",
      "                           min_samples_leaf=1, min_samples_split=2,\n",
      "                           min_weight_fraction_leaf=0.0, n_estimators=100,\n",
      "                           n_iter_no_change=None, presort='deprecated',\n",
      "                           random_state=None, subsample=1.0, tol=0.0001,\n",
      "                           validation_fraction=0.1, verbose=0,\n",
      "                           warm_start=False)\n",
      "[{'n_estimators': [500], 'subsample': [0.8, 0.9, 1], 'max_features': [0.8], 'max_depth': [6, 8, 10], 'learning_rate': [0.01, 0.03, 0.05], 'random_state': [3567]}]\n",
      "######\n",
      "The best parameter for GradientBoostingClassifier is {'learning_rate': 0.01, 'max_depth': 6, 'max_features': 0.8, 'n_estimators': 500, 'random_state': 3567, 'subsample': 0.8} with a runtime of 99.50 minutes.\n",
      "######\n",
      "\n",
      "XGBClassifier(base_score=None, booster=None, colsample_bylevel=None,\n",
      "              colsample_bynode=None, colsample_bytree=None, gamma=None,\n",
      "              gpu_id=None, importance_type='gain', interaction_constraints=None,\n",
      "              learning_rate=None, max_delta_step=None, max_depth=None,\n",
      "              min_child_weight=None, missing=nan, monotone_constraints=None,\n",
      "              n_estimators=100, n_jobs=None, num_parallel_tree=None,\n",
      "              objective='binary:logistic', random_state=None, reg_alpha=None,\n",
      "              reg_lambda=None, scale_pos_weight=None, subsample=None,\n",
      "              tree_method=None, validate_parameters=False, verbosity=None)\n",
      "[{'learning_rate': [0.01, 0.03, 0.05], 'max_depth': [6, 8, 10], 'n_estimators': [500], 'gamma': [0.01, 0.02, 0.03], 'subsample': [0.8, 0.9, 1], 'colsample_bytree': [0.8], 'seed': [3567]}]\n",
      "######\n",
      "The best parameter for XGBClassifier is {'colsample_bytree': 0.8, 'gamma': 0.02, 'learning_rate': 0.01, 'max_depth': 6, 'n_estimators': 500, 'seed': 3567, 'subsample': 1} with a runtime of 97.80 minutes.\n",
      "######\n",
      "\n",
      "Total optimization time was 403.71 minutes.\n",
      "----------\n"
     ]
    }
   ],
   "source": [
    "start_total = time.perf_counter()\n",
    "\n",
    "for model, param in zip (models, grid_param):\n",
    "\n",
    "    print(model[1])\n",
    "    print(param)\n",
    "    \n",
    "    start = time.perf_counter()        \n",
    "    best_search = GridSearchCV(estimator=model[1], param_grid=param, cv=cv_split, scoring='roc_auc', verbose=0)\n",
    "    best_search.fit(X, y)\n",
    "    run = time.perf_counter() - start\n",
    "\n",
    "    best_param = best_search.best_params_\n",
    "    print('\\n######')\n",
    "    print('The best parameter for {} is {} with a runtime of {:.2f} minutes.'.format(model[1].__class__.__name__, \n",
    "                                                                                     best_param, run/60))\n",
    "    model[1].set_params(**best_param) \n",
    "\n",
    "    print('######\\n')\n",
    "\n",
    "run_total = time.perf_counter() - start_total\n",
    "print('Total optimization time was {:.2f} minutes.'.format(run_total/60))\n",
    "\n",
    "print('-'*10)"
   ]
  },
  {
   "cell_type": "markdown",
   "metadata": {},
   "source": [
    "## Training and Validation Results\n",
    "\n",
    "Consolidating the results"
   ]
  },
  {
   "cell_type": "code",
   "execution_count": 187,
   "metadata": {},
   "outputs": [
    {
     "data": {
      "application/vnd.jupyter.widget-view+json": {
       "model_id": "75e3074379444591937d3b3c16eb0045",
       "version_major": 2,
       "version_minor": 0
      },
      "text/plain": [
       "HBox(children=(FloatProgress(value=0.0, max=8.0), HTML(value='')))"
      ]
     },
     "metadata": {},
     "output_type": "display_data"
    },
    {
     "name": "stdout",
     "output_type": "stream",
     "text": [
      "Processing AdaBoostClassifier...\n",
      "Processing SVC...\n",
      "Processing CatBoostClassifier...\n",
      "Processing LGBMClassifier...\n",
      "Processing HistGradientBoostingClassifier...\n",
      "Processing RandomForestClassifier...\n",
      "Processing GradientBoostingClassifier...\n",
      "Processing XGBClassifier...\n",
      "\n",
      "Processing VotingClassifer...\n"
     ]
    },
    {
     "data": {
      "text/html": [
       "<div>\n",
       "<style scoped>\n",
       "    .dataframe tbody tr th:only-of-type {\n",
       "        vertical-align: middle;\n",
       "    }\n",
       "\n",
       "    .dataframe tbody tr th {\n",
       "        vertical-align: top;\n",
       "    }\n",
       "\n",
       "    .dataframe thead th {\n",
       "        text-align: right;\n",
       "    }\n",
       "</style>\n",
       "<table border=\"1\" class=\"dataframe\">\n",
       "  <thead>\n",
       "    <tr style=\"text-align: right;\">\n",
       "      <th></th>\n",
       "      <th>Test3Std</th>\n",
       "      <th>TestScore</th>\n",
       "      <th>TrainScore</th>\n",
       "    </tr>\n",
       "    <tr>\n",
       "      <th>Model</th>\n",
       "      <th></th>\n",
       "      <th></th>\n",
       "      <th></th>\n",
       "    </tr>\n",
       "  </thead>\n",
       "  <tbody>\n",
       "    <tr>\n",
       "      <th>RandomForestClassifier</th>\n",
       "      <td>16.046845</td>\n",
       "      <td>83.794444</td>\n",
       "      <td>93.045064</td>\n",
       "    </tr>\n",
       "    <tr>\n",
       "      <th>VotingClassifier</th>\n",
       "      <td>16.550916</td>\n",
       "      <td>83.727778</td>\n",
       "      <td>92.396464</td>\n",
       "    </tr>\n",
       "    <tr>\n",
       "      <th>LGBMClassifier</th>\n",
       "      <td>16.180660</td>\n",
       "      <td>83.613636</td>\n",
       "      <td>91.209146</td>\n",
       "    </tr>\n",
       "    <tr>\n",
       "      <th>HistGradientBoostingClassifier</th>\n",
       "      <td>16.018131</td>\n",
       "      <td>83.507576</td>\n",
       "      <td>86.518999</td>\n",
       "    </tr>\n",
       "    <tr>\n",
       "      <th>XGBClassifier</th>\n",
       "      <td>15.962959</td>\n",
       "      <td>83.416667</td>\n",
       "      <td>92.266493</td>\n",
       "    </tr>\n",
       "    <tr>\n",
       "      <th>CatBoostClassifier</th>\n",
       "      <td>16.137642</td>\n",
       "      <td>82.941919</td>\n",
       "      <td>96.399076</td>\n",
       "    </tr>\n",
       "    <tr>\n",
       "      <th>GradientBoostingClassifier</th>\n",
       "      <td>15.451312</td>\n",
       "      <td>82.916667</td>\n",
       "      <td>96.016311</td>\n",
       "    </tr>\n",
       "    <tr>\n",
       "      <th>AdaBoostClassifier</th>\n",
       "      <td>17.151211</td>\n",
       "      <td>81.991414</td>\n",
       "      <td>83.384715</td>\n",
       "    </tr>\n",
       "    <tr>\n",
       "      <th>SVC</th>\n",
       "      <td>16.768289</td>\n",
       "      <td>78.860101</td>\n",
       "      <td>87.407416</td>\n",
       "    </tr>\n",
       "  </tbody>\n",
       "</table>\n",
       "</div>"
      ],
      "text/plain": [
       "                                 Test3Std  TestScore  TrainScore\n",
       "Model                                                           \n",
       "RandomForestClassifier          16.046845  83.794444   93.045064\n",
       "VotingClassifier                16.550916  83.727778   92.396464\n",
       "LGBMClassifier                  16.180660  83.613636   91.209146\n",
       "HistGradientBoostingClassifier  16.018131  83.507576   86.518999\n",
       "XGBClassifier                   15.962959  83.416667   92.266493\n",
       "CatBoostClassifier              16.137642  82.941919   96.399076\n",
       "GradientBoostingClassifier      15.451312  82.916667   96.016311\n",
       "AdaBoostClassifier              17.151211  81.991414   83.384715\n",
       "SVC                             16.768289  78.860101   87.407416"
      ]
     },
     "execution_count": 187,
     "metadata": {},
     "output_type": "execute_result"
    }
   ],
   "source": [
    "from tqdm import tqdm_notebook as tqdm\n",
    "\n",
    "results = []\n",
    "for m in tqdm(models):\n",
    "    result = {}\n",
    "#     print('{} - {}'.format(m[0], type(m[1]).__name__))\n",
    "    print('Processing {}...'.format(type(m[1]).__name__))\n",
    "\n",
    "    m_cv = cross_validate(m[1], X, y, cv=cv_split, return_train_score=True)\n",
    "    \n",
    "    result['Model'] = type(m[1]).__name__\n",
    "    result['TrainScore'] = m_cv['train_score'].mean()*100\n",
    "    result['TestScore'] = m_cv['test_score'].mean()*100\n",
    "    result['Test3Std'] = m_cv['test_score'].std()*100*3\n",
    "    \n",
    "    results.append(result)\n",
    "\n",
    "    \n",
    "## Including Voting Classifier in the results    \n",
    "#Hard Vote or majority rules w/Tuned Hyperparameters\n",
    "print('Processing VotingClassifer...')\n",
    "result = {}    \n",
    "vc = VotingClassifier(estimators=models, voting='hard')\n",
    "vc_cv = cross_validate(vc, X, y, cv=cv_split, return_train_score=True)\n",
    "\n",
    "result['Model'] = type(vc).__name__\n",
    "result['TrainScore'] = vc_cv['train_score'].mean()*100\n",
    "result['TestScore'] = vc_cv['test_score'].mean()*100\n",
    "result['Test3Std'] = vc_cv['test_score'].std()*100*3\n",
    "\n",
    "results.append(result)\n",
    "\n",
    "# vc.fit(X, y)    \n",
    "    \n",
    "results = pd.DataFrame(results).set_index('Model').sort_values('TestScore', ascending=False) \n",
    "results"
   ]
  },
  {
   "cell_type": "code",
   "execution_count": 188,
   "metadata": {},
   "outputs": [
    {
     "name": "stdout",
     "output_type": "stream",
     "text": [
      "Best model - RandomForestClassifier\n"
     ]
    }
   ],
   "source": [
    "print('Best model - {}'.format(results.index[0]))"
   ]
  },
  {
   "cell_type": "markdown",
   "metadata": {},
   "source": [
    "Showing the feature importances of the best model"
   ]
  },
  {
   "cell_type": "code",
   "execution_count": 189,
   "metadata": {},
   "outputs": [],
   "source": [
    "def searchModel(models, name):\n",
    "    for i, m in enumerate(models):\n",
    "        if type(m[1]).__name__.startswith(name):\n",
    "            return i\n",
    "    return -999"
   ]
  },
  {
   "cell_type": "code",
   "execution_count": 190,
   "metadata": {},
   "outputs": [
    {
     "data": {
      "image/png": "[encoded data removed]",
      "text/plain": [
       "<Figure size 1200x720 with 1 Axes>"
      ]
     },
     "metadata": {
      "needs_background": "light"
     },
     "output_type": "display_data"
    }
   ],
   "source": [
    "best = models[searchModel(models, results.index[0])][1]\n",
    "best.fit(X, y)\n",
    "plot_importances(best, X.columns, 10)"
   ]
  },
  {
   "cell_type": "markdown",
   "metadata": {},
   "source": [
    "Show the tree if XGBoost model is the best model"
   ]
  },
  {
   "cell_type": "code",
   "execution_count": 191,
   "metadata": {},
   "outputs": [
    {
     "name": "stdout",
     "output_type": "stream",
     "text": [
      "Not XGBClassifier\n"
     ]
    }
   ],
   "source": [
    "## Only applicatble for XGBoost model\n",
    "if type(best).__name__.startswith('XGBClassifier'):\n",
    "    import xgboost\n",
    "    xgboost.plot_tree(best)\n",
    "    plt.show()\n",
    "else:\n",
    "    print('Not XGBClassifier')"
   ]
  },
  {
   "cell_type": "markdown",
   "metadata": {},
   "source": [
    "## Model Prediction and Result Submission\n",
    "Preparing the prediction results using the best model based on test score."
   ]
  },
  {
   "cell_type": "code",
   "execution_count": 193,
   "metadata": {},
   "outputs": [],
   "source": [
    "submission.Survived = best.predict(X_test)\n",
    "submission.to_csv(OUTPUT_FOLDER + 'submission.csv', index=False) "
   ]
  },
  {
   "cell_type": "markdown",
   "metadata": {},
   "source": [
    "## References\n",
    "\n",
    "1. https://www.kaggle.com/ldfreeman3/a-data-science-framework-to-achieve-99-accuracy\n",
    "2. https://www.kaggle.com/kpacocha/top-5-titanic-machine-learning-from-disaster\n",
    "3. https://www.kaggle.com/nadintamer/titanic-survival-predictions-beginner\n",
    "4. https://machinelearningmastery.com/gradient-boosting-with-scikit-learn-xgboost-lightgbm-and-catboost/\n",
    "\n",
    "--------"
   ]
  },
  {
   "cell_type": "code",
   "execution_count": null,
   "metadata": {},
   "outputs": [],
   "source": []
  }
 ],
 "metadata": {
  "kernelspec": {
   "display_name": "Python 3",
   "language": "python",
   "name": "python3"
  },
  "language_info": {
   "codemirror_mode": {
    "name": "ipython",
    "version": 3
   },
   "file_extension": ".py",
   "mimetype": "text/x-python",
   "name": "python",
   "nbconvert_exporter": "python",
   "pygments_lexer": "ipython3",
   "version": "3.8.3"
  }
 },
 "nbformat": 4,
 "nbformat_minor": 4
}
